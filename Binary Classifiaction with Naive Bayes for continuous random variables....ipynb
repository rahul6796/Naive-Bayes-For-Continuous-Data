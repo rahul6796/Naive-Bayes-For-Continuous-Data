{
 "cells": [
  {
   "cell_type": "markdown",
   "metadata": {},
   "source": [
    "# Naive Bayes For Binary Classifiaction.... "
   ]
  },
  {
   "cell_type": "markdown",
   "metadata": {},
   "source": [
    "In this Naive Bayes algorithm we explain the detailed math with examples."
   ]
  },
  {
   "cell_type": "markdown",
   "metadata": {},
   "source": [
    "# Content"
   ]
  },
  {
   "cell_type": "markdown",
   "metadata": {},
   "source": [
    "$1$. What is Naive. "
   ]
  },
  {
   "cell_type": "markdown",
   "metadata": {},
   "source": [
    "$2$. What is Bayes rule."
   ]
  },
  {
   "cell_type": "markdown",
   "metadata": {},
   "source": [
    "$3$.Naive Bayes Classifier for Continuous data."
   ]
  },
  {
   "cell_type": "markdown",
   "metadata": {},
   "source": [
    "$4$.Maximum Likelihood Estimation."
   ]
  },
  {
   "cell_type": "markdown",
   "metadata": {},
   "source": [
    "# 1.What is Naive."
   ]
  },
  {
   "cell_type": "markdown",
   "metadata": {},
   "source": [
    "In Naive Bayes classifier, what we doing here in our datasets given features so we assume that Independent assumption between two features."
   ]
  },
  {
   "cell_type": "markdown",
   "metadata": {},
   "source": [
    "# 2. What is Bayes rule."
   ]
  },
  {
   "cell_type": "markdown",
   "metadata": {},
   "source": [
    "let's start ....."
   ]
  },
  {
   "cell_type": "markdown",
   "metadata": {},
   "source": [
    "let's suppose we have two random variabels $A$ and $B$"
   ]
  },
  {
   "cell_type": "markdown",
   "metadata": {},
   "source": [
    "what is the condtional probability...."
   ]
  },
  {
   "cell_type": "markdown",
   "metadata": {},
   "source": [
    "1-equation. \n",
    "\\begin{equation}\n",
    "P(A|B) = \\frac{P(A\\cap B)}{P(B)}\n",
    "\\end{equation}"
   ]
  },
  {
   "cell_type": "markdown",
   "metadata": {},
   "source": [
    "2-equation.\n",
    "\\begin{equation}\n",
    "P(B|A) = \\frac{P(A\\cap {B})}{P(A)}\n",
    "\\end{equation}"
   ]
  },
  {
   "cell_type": "markdown",
   "metadata": {},
   "source": [
    "re-write 2-equation.\n",
    "\\begin{equation}\n",
    "P(A\\cap{B}) = P(B|A)\\cdot{P(A)}\n",
    "\\end{equation}"
   ]
  },
  {
   "cell_type": "markdown",
   "metadata": {},
   "source": [
    "let's put 2-equation in 1-equation.\n",
    "\\begin{equation}\n",
    "P(A|B) = \\frac{P(B|A)\\cdot P(A)}{P(B)}\n",
    "\\end{equation}"
   ]
  },
  {
   "cell_type": "markdown",
   "metadata": {},
   "source": [
    "this is also called the Bayes theorem...\n",
    "\\begin{equation}\n",
    "P(A|B) = \\frac{P(B|A)\\cdot{P(A)}}{P(B)}\n",
    "\\end{equation}"
   ]
  },
  {
   "cell_type": "markdown",
   "metadata": {},
   "source": [
    "let's introduced some probabilty terms in Bayes Theorem."
   ]
  },
  {
   "cell_type": "markdown",
   "metadata": {},
   "source": [
    "left hand side probability term. $P(A|B)$ is called the Posterior Probability."
   ]
  },
  {
   "cell_type": "markdown",
   "metadata": {},
   "source": [
    "right hand side probability term. $P(B|A)$ is called Likelihood Probabilty, and $P(A)$ is called Prior Probabilty"
   ]
  },
  {
   "cell_type": "markdown",
   "metadata": {},
   "source": [
    "and the last denominator term. $P(B)$ is called normalized probability..."
   ]
  },
  {
   "cell_type": "markdown",
   "metadata": {},
   "source": [
    "so we can also write $P(B)$."
   ]
  },
  {
   "cell_type": "markdown",
   "metadata": {},
   "source": [
    "\\begin{equation}\n",
    "P(B) = P(B|A)\\cdot{P(A)} + P(B|{A}^\\complement)\\cdot{P({A}^\\complement)}\n",
    "\\end{equation}"
   ]
  },
  {
   "cell_type": "markdown",
   "metadata": {},
   "source": [
    "# 3.Naive Bayes Classifier For Continuous Data."
   ]
  },
  {
   "cell_type": "markdown",
   "metadata": {},
   "source": [
    "let's take an example and understand the naive bayes clssifier concept."
   ]
  },
  {
   "cell_type": "markdown",
   "metadata": {},
   "source": [
    "suppose i have dataset that name is Tumor Dataset. which are containing Dignosis column in which having 'Malignant = $M$' and 'Benign =  $B$' that is binary classification...and having variours fetures columns like 'radius_mean','texture_mean' etc......"
   ]
  },
  {
   "cell_type": "markdown",
   "metadata": {},
   "source": [
    "what we doing here we taking only one fetures column and try to find out there respective disease through this Naive Bayes Classifier."
   ]
  },
  {
   "cell_type": "markdown",
   "metadata": {},
   "source": [
    "let's start......."
   ]
  },
  {
   "cell_type": "markdown",
   "metadata": {},
   "source": [
    "first we define the some basic notation .....$A$ ='Dignosis = M',and $B$='radius_mean',${A}^{\\complement}$='Diagnosis = B'"
   ]
  },
  {
   "cell_type": "markdown",
   "metadata": {},
   "source": [
    "\\begin{equation}\n",
    "P(A = {'M'}| B = {'radiumean'}) = \\frac{P(B={'radiusmean'}|A={'M'})\\cdot{P(A={'M'})}}{P(B='radiusmean'|A={'M'})\\cdot{P(A='M')} + P(B='radiusmean|A='B')\\cdot{P(A='B')}}\n",
    "\\end{equation}"
   ]
  },
  {
   "cell_type": "markdown",
   "metadata": {},
   "source": [
    "one things i want to mention the above all probability calculated on training data."
   ]
  },
  {
   "cell_type": "markdown",
   "metadata": {},
   "source": [
    "let's see how to calculate this all probability one by one......"
   ]
  },
  {
   "cell_type": "markdown",
   "metadata": {},
   "source": [
    "in mention example our features column are containing the continuous values. and we know our random variables are continuous in nature then we say that random variabels come from the some probabilty distribution and that probability distribution is gaussian in natures. so we simply used here probability distribution function of gaussian."
   ]
  },
  {
   "cell_type": "markdown",
   "metadata": {},
   "source": [
    "that look's like..."
   ]
  },
  {
   "cell_type": "markdown",
   "metadata": {},
   "source": [
    "\\begin{equation}\n",
    "\\frac{1}{\\sqrt{{2} {\\pi} \\sigma}}e^{-}\\frac{(x='radiusmean' - \\mu)^2}{2{\\sigma}^2}\n",
    "\\end{equation}"
   ]
  },
  {
   "cell_type": "markdown",
   "metadata": {},
   "source": [
    "now one more important things is that i have only x='radius_mean' but we don't know ${\\mu}$ and ${\\sigma}$...."
   ]
  },
  {
   "cell_type": "markdown",
   "metadata": {},
   "source": [
    "question is that how we calculate the ${\\mu}$ and ${\\sigma}$....."
   ]
  },
  {
   "cell_type": "markdown",
   "metadata": {},
   "source": [
    "so for calculating the ${\\mu}$ and ${\\sigma}$ we are introducing one of the most important concept that is know that  Maximum likelihood estimation....."
   ]
  },
  {
   "cell_type": "markdown",
   "metadata": {},
   "source": [
    "# 4 .Maximum Likelihood Estimation."
   ]
  },
  {
   "cell_type": "markdown",
   "metadata": {},
   "source": [
    "step $1$. we withdrawa a sample from the population kinds of data of Size $N$ and we assume that each values in this sample are IID(Independent and Indentically Distributed)."
   ]
  },
  {
   "cell_type": "markdown",
   "metadata": {},
   "source": [
    "step $2$. and now we construct the likelihood function on that sample of size $N$."
   ]
  },
  {
   "cell_type": "markdown",
   "metadata": {},
   "source": [
    "let's start.."
   ]
  },
  {
   "cell_type": "markdown",
   "metadata": {},
   "source": [
    "$X$ = $[{x}_1,{x}_2..................{x}_N]$ is our sample data....."
   ]
  },
  {
   "cell_type": "markdown",
   "metadata": {},
   "source": [
    "\\begin{equation}\n",
    "L = P(X={x}_1\\cap{x}_2\\cap{x}_3..............\\cap{x}_N)\n",
    "\\end{equation}"
   ]
  },
  {
   "cell_type": "markdown",
   "metadata": {},
   "source": [
    "\\begin{equation}\n",
    "L = P(X={x}_1)\\cdot{P(X={x}_2)}.....................P(X={x}_N)\n",
    "\\end{equation}"
   ]
  },
  {
   "cell_type": "markdown",
   "metadata": {},
   "source": [
    "\\begin{equation}\n",
    "L(\\mu,{\\sigma}) = (\\frac{1}{\\sqrt{2{\\pi}{\\sigma}}}e^{-1}\\frac{({x}_1 - \\mu)^2}{2{\\sigma}^2})\\cdot{(\\frac{1}{\\sqrt{2{\\pi}{\\sigma}}}e^{-1}\\frac{({x}_2 - \\mu)^2}{2{\\sigma}^2})}..................(\\frac{1}{\\sqrt{2{\\pi}{\\sigma}}}e^{-1}\\frac{({x}_N - \\mu)^2}{2{\\sigma}^2})\n",
    "\\end{equation}"
   ]
  },
  {
   "cell_type": "markdown",
   "metadata": {},
   "source": [
    "\\begin{equation}\n",
    "L(\\mu,{\\sigma}) = (\\frac{1}{\\sqrt{2{\\pi}{\\sigma}}})^N\\cdot{e^{-}\\frac{({x}_1 - \\mu)^2}{2{\\sigma}^2}}\\cdot{e^{-}\\frac{({x}_2 - \\mu)^2}{2{\\sigma}^2}}............\\cdot{e^{-}\\frac{({x}_N - \\mu)^2}{2{\\sigma}^2}}\n",
    "\\end{equation}"
   ]
  },
  {
   "cell_type": "markdown",
   "metadata": {},
   "source": [
    "\\begin{equation}\n",
    "L(\\mu,{\\sigma}) = (\\frac{1}{\\sqrt{2{\\pi}{\\sigma}}})^N\\cdot e^{-}{\\sum_{i=1}^N\\frac{({x}_i - \\mu)^2}{2{\\sigma}^2}}\n",
    "\\end{equation}"
   ]
  },
  {
   "cell_type": "markdown",
   "metadata": {},
   "source": [
    "now taking the log of Likelihood function."
   ]
  },
  {
   "cell_type": "markdown",
   "metadata": {},
   "source": [
    "\\begin{equation}\n",
    "\\log{L}(\\mu,{\\sigma}) = \\log{[(\\frac{1}{\\sqrt{2\\pi{\\sigma}}})^N\\cdot e^{-1}\\sum_{i=1}^N\\frac{({x}_i - \\mu)^2}{2{\\sigma}^2}]}\n",
    "\\end{equation}\n"
   ]
  },
  {
   "cell_type": "markdown",
   "metadata": {},
   "source": [
    "\\begin{equation}\n",
    "= N\\log\\frac{1}{\\sqrt{2\\pi{\\sigma}}}{-}\\sum_{i=1}^N\\frac{({x}_i - \\mu)^2}{2{\\sigma}^2}\n",
    "\\end{equation}"
   ]
  },
  {
   "cell_type": "markdown",
   "metadata": {},
   "source": [
    "now taking the negative of log Likelihood."
   ]
  },
  {
   "cell_type": "markdown",
   "metadata": {},
   "source": [
    "\\begin{equation}\n",
    "= -N\\log\\frac{1}{\\sqrt{2\\pi{\\sigma}}}{+}\\sum_{i=1}^N\\frac{({x}_i - \\mu)^2}{2{\\sigma}^2}\n",
    "\\end{equation}"
   ]
  },
  {
   "cell_type": "markdown",
   "metadata": {},
   "source": [
    "now we maximize the Likelihood that mean we maximize the likelihood estimates, we minimize the negative log Likelihood fucntion.\n",
    "\\begin{equation}\n",
    "\\begin{array}{rrclcl}\n",
    "\\displaystyle \\max_{\\mu,{\\sigma}} L(\\mu,{\\sigma})\n",
    "\\end{array}\n",
    "\\end{equation}"
   ]
  },
  {
   "cell_type": "markdown",
   "metadata": {},
   "source": [
    "now taking the partial derivatives of negative log Likelihood function make them equal to $0$."
   ]
  },
  {
   "cell_type": "markdown",
   "metadata": {},
   "source": [
    "1-derivative w.r.t ${\\mu}$.....\n",
    "\\begin{equation}\n",
    "\\frac{\\partial}{\\partial {\\mu}}({-}\\log{L}(\\mu,{\\sigma})) = 0\n",
    "\\end{equation}"
   ]
  },
  {
   "cell_type": "markdown",
   "metadata": {},
   "source": [
    "2-derivative w.r.t ${\\sigma}$\n",
    "\\begin{equation}\n",
    "\\frac{\\partial}{\\partial {\\sigma}}(-\\log{L(\\mu,{\\sigma})})  = 0\n",
    "\\end{equation}"
   ]
  },
  {
   "cell_type": "markdown",
   "metadata": {},
   "source": [
    "\\begin{equation}\n",
    "\\frac{\\partial}{\\partial \\mu}\\sum_{i=1}^N\\frac{({x}_i - \\mu)^2}{2{\\sigma}^2} = 0\n",
    "\\end{equation}"
   ]
  },
  {
   "cell_type": "markdown",
   "metadata": {},
   "source": [
    "\\begin{equation}\n",
    "{-}\\sum_{i=1}^N\\frac{({x}_i - \\mu)}{2{\\sigma}^2} = 0 \n",
    "\\end{equation}"
   ]
  },
  {
   "cell_type": "markdown",
   "metadata": {},
   "source": [
    "\\begin{equation}\n",
    "\\sum_{i=1}^N{x}_i - N{\\mu} = 0\n",
    "\\end{equation}"
   ]
  },
  {
   "cell_type": "markdown",
   "metadata": {},
   "source": [
    "\\begin{equation}\n",
    "\\mu = \\frac{\\sum_{i=1}^N{x}_i}{N}\n",
    "\\end{equation}"
   ]
  },
  {
   "cell_type": "markdown",
   "metadata": {},
   "source": [
    "this is your best estimate of your sample data. and we represent this best estimate by using cap notation."
   ]
  },
  {
   "cell_type": "markdown",
   "metadata": {},
   "source": [
    "\\begin{equation}\n",
    "\\hat{\\mu} = \\frac{\\sum_{i=1}^N{x}_i}{N}\n",
    "\\end{equation}"
   ]
  },
  {
   "cell_type": "markdown",
   "metadata": {},
   "source": [
    "and similarly we you solve the  $2$ equation you get your best estimate.\n",
    "\\begin{equation}\n",
    "\\hat{\\sigma}^2 = \\frac{\\sum_{i}^N({x}_i - \\hat{\\mu})^2}{N}\n",
    "\\end{equation}"
   ]
  },
  {
   "cell_type": "markdown",
   "metadata": {},
   "source": [
    "sppose you have more than one features then for parameters of gaussion distribution is your best estimates."
   ]
  },
  {
   "cell_type": "markdown",
   "metadata": {},
   "source": [
    "\n",
    "$1$. mean vector for each features columns...\n",
    "\\begin{bmatrix}\n",
    "\\hat{\\mu}_1 \\\\ \\hat{\\mu}_2 \\\\ \\hat{\\mu}_3 \\\\ ... \\\\ ... \\\\ ...\\\\ \\hat{\\mu}_N\n",
    "\\end{bmatrix}"
   ]
  },
  {
   "cell_type": "markdown",
   "metadata": {},
   "source": [
    "$2$. covariance matrix.....\n",
    "\\begin{equation}\n",
    "\\hat{\\sum}\n",
    "\\end{equation}"
   ]
  },
  {
   "cell_type": "markdown",
   "metadata": {},
   "source": [
    "# let's calculate the all probability in Naive Bayes....."
   ]
  },
  {
   "cell_type": "markdown",
   "metadata": {},
   "source": [
    "$1$. Likehood Probability\n",
    "\\begin{equation}\n",
    "P(B='radiusmean'|A='M')\n",
    "\\end{equation}"
   ]
  },
  {
   "cell_type": "markdown",
   "metadata": {},
   "source": [
    "for calculating this probability in we are used the (import scipy.stats as s) and (s.norm.pdf) and pass you feature and best estimates then you calculate this probability...."
   ]
  },
  {
   "cell_type": "markdown",
   "metadata": {},
   "source": [
    "$2$. Likelihood Probability"
   ]
  },
  {
   "cell_type": "markdown",
   "metadata": {},
   "source": [
    "\\begin{equation}\n",
    "P(B='radiusmean'|A='B')\n",
    "\\end{equation}"
   ]
  },
  {
   "cell_type": "markdown",
   "metadata": {},
   "source": [
    "for calculating this probability in we are used the (import scipy.stats as s) and (s.norm.pdf) and pass you feature and best estimates then you calculate this probability..."
   ]
  },
  {
   "cell_type": "markdown",
   "metadata": {},
   "source": [
    "$3$. Prior Probability....."
   ]
  },
  {
   "cell_type": "markdown",
   "metadata": {},
   "source": [
    "\\begin{equation}\n",
    "P(A='M') = \\frac{frequency of 'M'}{training examples}\n",
    "\\end{equation}"
   ]
  },
  {
   "cell_type": "markdown",
   "metadata": {},
   "source": [
    "same for.....\n",
    "\n",
    "\\begin{equation}\n",
    "P(A='B') = \\frac{frequency fo 'B'}{tarining examples}\n",
    "\\end{equation}"
   ]
  },
  {
   "cell_type": "markdown",
   "metadata": {},
   "source": [
    "and you put all probability in Posterior Probability equation you get probability of each examples corresponding each class......"
   ]
  },
  {
   "cell_type": "code",
   "execution_count": null,
   "metadata": {},
   "outputs": [],
   "source": []
  }
 ],
 "metadata": {
  "kernelspec": {
   "display_name": "Python 3",
   "language": "python",
   "name": "python3"
  },
  "language_info": {
   "codemirror_mode": {
    "name": "ipython",
    "version": 3
   },
   "file_extension": ".py",
   "mimetype": "text/x-python",
   "name": "python",
   "nbconvert_exporter": "python",
   "pygments_lexer": "ipython3",
   "version": "3.7.3"
  }
 },
 "nbformat": 4,
 "nbformat_minor": 2
}
